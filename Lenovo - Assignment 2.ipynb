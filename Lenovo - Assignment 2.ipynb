{
 "cells": [
  {
   "cell_type": "markdown",
   "id": "6c1d2873",
   "metadata": {},
   "source": [
    "Assignment 2:\n",
    "\n",
    "Create a forecast for what the visits would look like for the next year based on the historic data points from the ‘Data for Forecast’ file (attached herewith). You should:\n",
    "\n",
    "1. Consider seasonality and normalize the anomalies, if any\n",
    "2. Choose any apt methodology/tool/technique to create and present the analysis (based on your current skillsets and abilities)\n",
    "   For this assignment, we will be looking for creativity around \"visual representation\" of forecast, as well as details on the      methodology used."
   ]
  },
  {
   "cell_type": "code",
   "execution_count": 1,
   "id": "b49d2371",
   "metadata": {},
   "outputs": [],
   "source": [
    "# Importing Libraries\n",
    "import pandas as pd\n",
    "import warnings\n",
    "warnings.simplefilter('ignore')\n",
    "from prophet import Prophet\n",
    "import matplotlib.pyplot as plt\n",
    "import plotly\n",
    "%matplotlib inline"
   ]
  },
  {
   "cell_type": "code",
   "execution_count": 77,
   "id": "095303c9",
   "metadata": {},
   "outputs": [
    {
     "data": {
      "text/html": [
       "<div>\n",
       "<style scoped>\n",
       "    .dataframe tbody tr th:only-of-type {\n",
       "        vertical-align: middle;\n",
       "    }\n",
       "\n",
       "    .dataframe tbody tr th {\n",
       "        vertical-align: top;\n",
       "    }\n",
       "\n",
       "    .dataframe thead th {\n",
       "        text-align: right;\n",
       "    }\n",
       "</style>\n",
       "<table border=\"1\" class=\"dataframe\">\n",
       "  <thead>\n",
       "    <tr style=\"text-align: right;\">\n",
       "      <th></th>\n",
       "      <th>ID</th>\n",
       "      <th>Date (week beginning)</th>\n",
       "      <th>Selected Period</th>\n",
       "    </tr>\n",
       "  </thead>\n",
       "  <tbody>\n",
       "    <tr>\n",
       "      <th>0</th>\n",
       "      <td>1</td>\n",
       "      <td>Dec 26, 2011</td>\n",
       "      <td>1284608</td>\n",
       "    </tr>\n",
       "    <tr>\n",
       "      <th>1</th>\n",
       "      <td>2</td>\n",
       "      <td>Jan 2, 2012</td>\n",
       "      <td>13059880</td>\n",
       "    </tr>\n",
       "    <tr>\n",
       "      <th>2</th>\n",
       "      <td>3</td>\n",
       "      <td>Jan 9, 2012</td>\n",
       "      <td>14076974</td>\n",
       "    </tr>\n",
       "    <tr>\n",
       "      <th>3</th>\n",
       "      <td>4</td>\n",
       "      <td>Jan 16, 2012</td>\n",
       "      <td>14337217</td>\n",
       "    </tr>\n",
       "    <tr>\n",
       "      <th>4</th>\n",
       "      <td>5</td>\n",
       "      <td>Jan 23, 2012</td>\n",
       "      <td>14681748</td>\n",
       "    </tr>\n",
       "  </tbody>\n",
       "</table>\n",
       "</div>"
      ],
      "text/plain": [
       "   ID Date (week beginning)  Selected Period\n",
       "0   1          Dec 26, 2011          1284608\n",
       "1   2           Jan 2, 2012         13059880\n",
       "2   3           Jan 9, 2012         14076974\n",
       "3   4          Jan 16, 2012         14337217\n",
       "4   5          Jan 23, 2012         14681748"
      ]
     },
     "execution_count": 77,
     "metadata": {},
     "output_type": "execute_result"
    }
   ],
   "source": [
    "# Reading the input file\n",
    "df = pd.read_excel('Data for Forecast.xlsx')\n",
    "df.head()"
   ]
  },
  {
   "cell_type": "code",
   "execution_count": 78,
   "id": "840d91a3",
   "metadata": {},
   "outputs": [
    {
     "name": "stdout",
     "output_type": "stream",
     "text": [
      "<class 'pandas.core.frame.DataFrame'>\n",
      "RangeIndex: 119 entries, 0 to 118\n",
      "Data columns (total 3 columns):\n",
      " #   Column                 Non-Null Count  Dtype \n",
      "---  ------                 --------------  ----- \n",
      " 0   ID                     119 non-null    int64 \n",
      " 1   Date (week beginning)  119 non-null    object\n",
      " 2   Selected Period        119 non-null    int64 \n",
      "dtypes: int64(2), object(1)\n",
      "memory usage: 2.9+ KB\n"
     ]
    }
   ],
   "source": [
    "df.info()"
   ]
  },
  {
   "cell_type": "code",
   "execution_count": 79,
   "id": "453e7d27",
   "metadata": {},
   "outputs": [
    {
     "data": {
      "text/html": [
       "<div>\n",
       "<style scoped>\n",
       "    .dataframe tbody tr th:only-of-type {\n",
       "        vertical-align: middle;\n",
       "    }\n",
       "\n",
       "    .dataframe tbody tr th {\n",
       "        vertical-align: top;\n",
       "    }\n",
       "\n",
       "    .dataframe thead th {\n",
       "        text-align: right;\n",
       "    }\n",
       "</style>\n",
       "<table border=\"1\" class=\"dataframe\">\n",
       "  <thead>\n",
       "    <tr style=\"text-align: right;\">\n",
       "      <th></th>\n",
       "      <th>ID</th>\n",
       "      <th>Date (week beginning)</th>\n",
       "      <th>Selected Period</th>\n",
       "      <th>Month</th>\n",
       "      <th>Date</th>\n",
       "      <th>Year</th>\n",
       "    </tr>\n",
       "  </thead>\n",
       "  <tbody>\n",
       "    <tr>\n",
       "      <th>0</th>\n",
       "      <td>1</td>\n",
       "      <td>Dec 26, 2011</td>\n",
       "      <td>1284608</td>\n",
       "      <td>Dec</td>\n",
       "      <td>26</td>\n",
       "      <td>2011</td>\n",
       "    </tr>\n",
       "    <tr>\n",
       "      <th>1</th>\n",
       "      <td>2</td>\n",
       "      <td>Jan 2, 2012</td>\n",
       "      <td>13059880</td>\n",
       "      <td>Jan</td>\n",
       "      <td>2</td>\n",
       "      <td>2012</td>\n",
       "    </tr>\n",
       "  </tbody>\n",
       "</table>\n",
       "</div>"
      ],
      "text/plain": [
       "   ID Date (week beginning)  Selected Period Month Date   Year\n",
       "0   1          Dec 26, 2011          1284608   Dec   26   2011\n",
       "1   2           Jan 2, 2012         13059880   Jan    2   2012"
      ]
     },
     "execution_count": 79,
     "metadata": {},
     "output_type": "execute_result"
    }
   ],
   "source": [
    "# Splitting the Data column\n",
    "df['Month'] = df['Date (week beginning)'].apply(lambda x:x.split(' ')[0])\n",
    "df['Date'] = df['Date (week beginning)'].apply(lambda x:x.split(' ')[1])\n",
    "df['Date'] = df['Date'].replace(',', '', regex=True)\n",
    "df['Year'] = df['Date (week beginning)'].apply(lambda x:x.split(',')[1])\n",
    "df.head(2)"
   ]
  },
  {
   "cell_type": "code",
   "execution_count": 80,
   "id": "a53bc35c",
   "metadata": {},
   "outputs": [
    {
     "data": {
      "text/html": [
       "<div>\n",
       "<style scoped>\n",
       "    .dataframe tbody tr th:only-of-type {\n",
       "        vertical-align: middle;\n",
       "    }\n",
       "\n",
       "    .dataframe tbody tr th {\n",
       "        vertical-align: top;\n",
       "    }\n",
       "\n",
       "    .dataframe thead th {\n",
       "        text-align: right;\n",
       "    }\n",
       "</style>\n",
       "<table border=\"1\" class=\"dataframe\">\n",
       "  <thead>\n",
       "    <tr style=\"text-align: right;\">\n",
       "      <th></th>\n",
       "      <th>ID</th>\n",
       "      <th>Selected Period</th>\n",
       "      <th>Month</th>\n",
       "      <th>Date</th>\n",
       "      <th>Year</th>\n",
       "    </tr>\n",
       "  </thead>\n",
       "  <tbody>\n",
       "    <tr>\n",
       "      <th>0</th>\n",
       "      <td>1</td>\n",
       "      <td>1284608</td>\n",
       "      <td>Dec</td>\n",
       "      <td>26</td>\n",
       "      <td>2011</td>\n",
       "    </tr>\n",
       "    <tr>\n",
       "      <th>1</th>\n",
       "      <td>2</td>\n",
       "      <td>13059880</td>\n",
       "      <td>Jan</td>\n",
       "      <td>2</td>\n",
       "      <td>2012</td>\n",
       "    </tr>\n",
       "  </tbody>\n",
       "</table>\n",
       "</div>"
      ],
      "text/plain": [
       "   ID  Selected Period Month Date   Year\n",
       "0   1          1284608   Dec   26   2011\n",
       "1   2         13059880   Jan    2   2012"
      ]
     },
     "execution_count": 80,
     "metadata": {},
     "output_type": "execute_result"
    }
   ],
   "source": [
    "# Dropping the Actual Date column\n",
    "df = df.drop(['Date (week beginning)'], axis=1)\n",
    "df.head(2)"
   ]
  },
  {
   "cell_type": "code",
   "execution_count": 81,
   "id": "ae9fd418",
   "metadata": {},
   "outputs": [],
   "source": [
    "# Creating a dictionary for mapping the months\n",
    "S1 = {'Jan': '01', 'Feb': '02', 'Mar': '03', 'Apr': '04', 'May': '05', 'Jun': '06',\n",
    "      'Jul': '07', 'Aug': '08', 'Sep': '09', 'Oct': '10', 'Nov': '11', 'Dec': '12'}"
   ]
  },
  {
   "cell_type": "code",
   "execution_count": 69,
   "id": "008f1545",
   "metadata": {},
   "outputs": [
    {
     "data": {
      "text/html": [
       "<div>\n",
       "<style scoped>\n",
       "    .dataframe tbody tr th:only-of-type {\n",
       "        vertical-align: middle;\n",
       "    }\n",
       "\n",
       "    .dataframe tbody tr th {\n",
       "        vertical-align: top;\n",
       "    }\n",
       "\n",
       "    .dataframe thead th {\n",
       "        text-align: right;\n",
       "    }\n",
       "</style>\n",
       "<table border=\"1\" class=\"dataframe\">\n",
       "  <thead>\n",
       "    <tr style=\"text-align: right;\">\n",
       "      <th></th>\n",
       "      <th>ID</th>\n",
       "      <th>Selected Period</th>\n",
       "      <th>Month</th>\n",
       "      <th>Date</th>\n",
       "      <th>Year</th>\n",
       "    </tr>\n",
       "  </thead>\n",
       "  <tbody>\n",
       "    <tr>\n",
       "      <th>0</th>\n",
       "      <td>1</td>\n",
       "      <td>1284608</td>\n",
       "      <td>12</td>\n",
       "      <td>26</td>\n",
       "      <td>2011</td>\n",
       "    </tr>\n",
       "    <tr>\n",
       "      <th>1</th>\n",
       "      <td>2</td>\n",
       "      <td>13059880</td>\n",
       "      <td>01</td>\n",
       "      <td>2</td>\n",
       "      <td>2012</td>\n",
       "    </tr>\n",
       "    <tr>\n",
       "      <th>2</th>\n",
       "      <td>3</td>\n",
       "      <td>14076974</td>\n",
       "      <td>01</td>\n",
       "      <td>9</td>\n",
       "      <td>2012</td>\n",
       "    </tr>\n",
       "    <tr>\n",
       "      <th>3</th>\n",
       "      <td>4</td>\n",
       "      <td>14337217</td>\n",
       "      <td>01</td>\n",
       "      <td>16</td>\n",
       "      <td>2012</td>\n",
       "    </tr>\n",
       "    <tr>\n",
       "      <th>4</th>\n",
       "      <td>5</td>\n",
       "      <td>14681748</td>\n",
       "      <td>01</td>\n",
       "      <td>23</td>\n",
       "      <td>2012</td>\n",
       "    </tr>\n",
       "  </tbody>\n",
       "</table>\n",
       "</div>"
      ],
      "text/plain": [
       "   ID  Selected Period Month Date   Year\n",
       "0   1          1284608    12   26   2011\n",
       "1   2         13059880    01    2   2012\n",
       "2   3         14076974    01    9   2012\n",
       "3   4         14337217    01   16   2012\n",
       "4   5         14681748    01   23   2012"
      ]
     },
     "execution_count": 69,
     "metadata": {},
     "output_type": "execute_result"
    }
   ],
   "source": [
    "# Mapping the dictionary\n",
    "df['Month'] = df['Month'].map(S1)\n",
    "df.head()"
   ]
  },
  {
   "cell_type": "code",
   "execution_count": 82,
   "id": "4ce86f66",
   "metadata": {},
   "outputs": [
    {
     "data": {
      "text/html": [
       "<div>\n",
       "<style scoped>\n",
       "    .dataframe tbody tr th:only-of-type {\n",
       "        vertical-align: middle;\n",
       "    }\n",
       "\n",
       "    .dataframe tbody tr th {\n",
       "        vertical-align: top;\n",
       "    }\n",
       "\n",
       "    .dataframe thead th {\n",
       "        text-align: right;\n",
       "    }\n",
       "</style>\n",
       "<table border=\"1\" class=\"dataframe\">\n",
       "  <thead>\n",
       "    <tr style=\"text-align: right;\">\n",
       "      <th></th>\n",
       "      <th>ID</th>\n",
       "      <th>Selected Period</th>\n",
       "      <th>Month</th>\n",
       "      <th>Date</th>\n",
       "      <th>Year</th>\n",
       "      <th>YMD</th>\n",
       "    </tr>\n",
       "  </thead>\n",
       "  <tbody>\n",
       "    <tr>\n",
       "      <th>0</th>\n",
       "      <td>1</td>\n",
       "      <td>1284608</td>\n",
       "      <td>Dec</td>\n",
       "      <td>26</td>\n",
       "      <td>2011</td>\n",
       "      <td>2011-Dec-26</td>\n",
       "    </tr>\n",
       "    <tr>\n",
       "      <th>1</th>\n",
       "      <td>2</td>\n",
       "      <td>13059880</td>\n",
       "      <td>Jan</td>\n",
       "      <td>2</td>\n",
       "      <td>2012</td>\n",
       "      <td>2012-Jan-2</td>\n",
       "    </tr>\n",
       "    <tr>\n",
       "      <th>2</th>\n",
       "      <td>3</td>\n",
       "      <td>14076974</td>\n",
       "      <td>Jan</td>\n",
       "      <td>9</td>\n",
       "      <td>2012</td>\n",
       "      <td>2012-Jan-9</td>\n",
       "    </tr>\n",
       "    <tr>\n",
       "      <th>3</th>\n",
       "      <td>4</td>\n",
       "      <td>14337217</td>\n",
       "      <td>Jan</td>\n",
       "      <td>16</td>\n",
       "      <td>2012</td>\n",
       "      <td>2012-Jan-16</td>\n",
       "    </tr>\n",
       "    <tr>\n",
       "      <th>4</th>\n",
       "      <td>5</td>\n",
       "      <td>14681748</td>\n",
       "      <td>Jan</td>\n",
       "      <td>23</td>\n",
       "      <td>2012</td>\n",
       "      <td>2012-Jan-23</td>\n",
       "    </tr>\n",
       "  </tbody>\n",
       "</table>\n",
       "</div>"
      ],
      "text/plain": [
       "   ID  Selected Period Month Date   Year           YMD\n",
       "0   1          1284608   Dec   26   2011   2011-Dec-26\n",
       "1   2         13059880   Jan    2   2012    2012-Jan-2\n",
       "2   3         14076974   Jan    9   2012    2012-Jan-9\n",
       "3   4         14337217   Jan   16   2012   2012-Jan-16\n",
       "4   5         14681748   Jan   23   2012   2012-Jan-23"
      ]
     },
     "execution_count": 82,
     "metadata": {},
     "output_type": "execute_result"
    }
   ],
   "source": [
    "# converting the date in the required format\n",
    "df['YMD']=df['Year']+'-'+df['Month']+'-'+df['Date']\n",
    "df.head()"
   ]
  },
  {
   "cell_type": "code",
   "execution_count": 83,
   "id": "8063c1ba",
   "metadata": {},
   "outputs": [],
   "source": [
    "#Dropping the unnecessary columns for modeling purpose\n",
    "df.drop(['ID','Year','Month','Date'],axis=1,inplace=True)"
   ]
  },
  {
   "cell_type": "code",
   "execution_count": 84,
   "id": "d2db5c02",
   "metadata": {},
   "outputs": [
    {
     "data": {
      "text/html": [
       "<div>\n",
       "<style scoped>\n",
       "    .dataframe tbody tr th:only-of-type {\n",
       "        vertical-align: middle;\n",
       "    }\n",
       "\n",
       "    .dataframe tbody tr th {\n",
       "        vertical-align: top;\n",
       "    }\n",
       "\n",
       "    .dataframe thead th {\n",
       "        text-align: right;\n",
       "    }\n",
       "</style>\n",
       "<table border=\"1\" class=\"dataframe\">\n",
       "  <thead>\n",
       "    <tr style=\"text-align: right;\">\n",
       "      <th></th>\n",
       "      <th>Selected Period</th>\n",
       "      <th>YMD</th>\n",
       "    </tr>\n",
       "  </thead>\n",
       "  <tbody>\n",
       "    <tr>\n",
       "      <th>0</th>\n",
       "      <td>1284608</td>\n",
       "      <td>2011-Dec-26</td>\n",
       "    </tr>\n",
       "    <tr>\n",
       "      <th>1</th>\n",
       "      <td>13059880</td>\n",
       "      <td>2012-Jan-2</td>\n",
       "    </tr>\n",
       "    <tr>\n",
       "      <th>2</th>\n",
       "      <td>14076974</td>\n",
       "      <td>2012-Jan-9</td>\n",
       "    </tr>\n",
       "    <tr>\n",
       "      <th>3</th>\n",
       "      <td>14337217</td>\n",
       "      <td>2012-Jan-16</td>\n",
       "    </tr>\n",
       "    <tr>\n",
       "      <th>4</th>\n",
       "      <td>14681748</td>\n",
       "      <td>2012-Jan-23</td>\n",
       "    </tr>\n",
       "  </tbody>\n",
       "</table>\n",
       "</div>"
      ],
      "text/plain": [
       "   Selected Period           YMD\n",
       "0          1284608   2011-Dec-26\n",
       "1         13059880    2012-Jan-2\n",
       "2         14076974    2012-Jan-9\n",
       "3         14337217   2012-Jan-16\n",
       "4         14681748   2012-Jan-23"
      ]
     },
     "execution_count": 84,
     "metadata": {},
     "output_type": "execute_result"
    }
   ],
   "source": [
    "df.head()"
   ]
  },
  {
   "cell_type": "code",
   "execution_count": 85,
   "id": "f8f535d8",
   "metadata": {},
   "outputs": [
    {
     "data": {
      "text/html": [
       "<div>\n",
       "<style scoped>\n",
       "    .dataframe tbody tr th:only-of-type {\n",
       "        vertical-align: middle;\n",
       "    }\n",
       "\n",
       "    .dataframe tbody tr th {\n",
       "        vertical-align: top;\n",
       "    }\n",
       "\n",
       "    .dataframe thead th {\n",
       "        text-align: right;\n",
       "    }\n",
       "</style>\n",
       "<table border=\"1\" class=\"dataframe\">\n",
       "  <thead>\n",
       "    <tr style=\"text-align: right;\">\n",
       "      <th></th>\n",
       "      <th>Selected Period</th>\n",
       "      <th>YMD</th>\n",
       "    </tr>\n",
       "  </thead>\n",
       "  <tbody>\n",
       "    <tr>\n",
       "      <th>0</th>\n",
       "      <td>1284608</td>\n",
       "      <td>2011-12-26</td>\n",
       "    </tr>\n",
       "    <tr>\n",
       "      <th>1</th>\n",
       "      <td>13059880</td>\n",
       "      <td>2012-01-02</td>\n",
       "    </tr>\n",
       "    <tr>\n",
       "      <th>2</th>\n",
       "      <td>14076974</td>\n",
       "      <td>2012-01-09</td>\n",
       "    </tr>\n",
       "    <tr>\n",
       "      <th>3</th>\n",
       "      <td>14337217</td>\n",
       "      <td>2012-01-16</td>\n",
       "    </tr>\n",
       "    <tr>\n",
       "      <th>4</th>\n",
       "      <td>14681748</td>\n",
       "      <td>2012-01-23</td>\n",
       "    </tr>\n",
       "  </tbody>\n",
       "</table>\n",
       "</div>"
      ],
      "text/plain": [
       "   Selected Period        YMD\n",
       "0          1284608 2011-12-26\n",
       "1         13059880 2012-01-02\n",
       "2         14076974 2012-01-09\n",
       "3         14337217 2012-01-16\n",
       "4         14681748 2012-01-23"
      ]
     },
     "execution_count": 85,
     "metadata": {},
     "output_type": "execute_result"
    }
   ],
   "source": [
    "#Converting the YMD column into DatetimeIndex format\n",
    "df['YMD']=pd.DatetimeIndex(df['YMD'])\n",
    "df.head()"
   ]
  },
  {
   "cell_type": "code",
   "execution_count": 86,
   "id": "0469aa68",
   "metadata": {},
   "outputs": [
    {
     "data": {
      "text/plain": [
       "Selected Period             int64\n",
       "YMD                datetime64[ns]\n",
       "dtype: object"
      ]
     },
     "execution_count": 86,
     "metadata": {},
     "output_type": "execute_result"
    }
   ],
   "source": [
    "df.dtypes"
   ]
  },
  {
   "cell_type": "code",
   "execution_count": 93,
   "id": "3254d981",
   "metadata": {},
   "outputs": [
    {
     "data": {
      "text/plain": [
       "pandas.core.frame.DataFrame"
      ]
     },
     "execution_count": 93,
     "metadata": {},
     "output_type": "execute_result"
    }
   ],
   "source": [
    "#Set the YMD column as an index to see some trends in the data overtime\n",
    "df = df.set_index('YMD', drop=True)"
   ]
  },
  {
   "cell_type": "code",
   "execution_count": 94,
   "id": "1b2912be",
   "metadata": {},
   "outputs": [
    {
     "data": {
      "text/html": [
       "<div>\n",
       "<style scoped>\n",
       "    .dataframe tbody tr th:only-of-type {\n",
       "        vertical-align: middle;\n",
       "    }\n",
       "\n",
       "    .dataframe tbody tr th {\n",
       "        vertical-align: top;\n",
       "    }\n",
       "\n",
       "    .dataframe thead th {\n",
       "        text-align: right;\n",
       "    }\n",
       "</style>\n",
       "<table border=\"1\" class=\"dataframe\">\n",
       "  <thead>\n",
       "    <tr style=\"text-align: right;\">\n",
       "      <th></th>\n",
       "      <th>Selected Period</th>\n",
       "    </tr>\n",
       "    <tr>\n",
       "      <th>YMD</th>\n",
       "      <th></th>\n",
       "    </tr>\n",
       "  </thead>\n",
       "  <tbody>\n",
       "    <tr>\n",
       "      <th>2011-12-26</th>\n",
       "      <td>1284608</td>\n",
       "    </tr>\n",
       "    <tr>\n",
       "      <th>2012-01-02</th>\n",
       "      <td>13059880</td>\n",
       "    </tr>\n",
       "    <tr>\n",
       "      <th>2012-01-09</th>\n",
       "      <td>14076974</td>\n",
       "    </tr>\n",
       "    <tr>\n",
       "      <th>2012-01-16</th>\n",
       "      <td>14337217</td>\n",
       "    </tr>\n",
       "    <tr>\n",
       "      <th>2012-01-23</th>\n",
       "      <td>14681748</td>\n",
       "    </tr>\n",
       "  </tbody>\n",
       "</table>\n",
       "</div>"
      ],
      "text/plain": [
       "            Selected Period\n",
       "YMD                        \n",
       "2011-12-26          1284608\n",
       "2012-01-02         13059880\n",
       "2012-01-09         14076974\n",
       "2012-01-16         14337217\n",
       "2012-01-23         14681748"
      ]
     },
     "execution_count": 94,
     "metadata": {},
     "output_type": "execute_result"
    }
   ],
   "source": [
    "df.head()"
   ]
  },
  {
   "cell_type": "code",
   "execution_count": 99,
   "id": "fb3c8155",
   "metadata": {},
   "outputs": [
    {
     "data": {
      "text/plain": [
       "<AxesSubplot:xlabel='YMD'>"
      ]
     },
     "execution_count": 99,
     "metadata": {},
     "output_type": "execute_result"
    },
    {
     "data": {
      "image/png": "[encoded data removed]",
      "text/plain": [
       "<Figure size 720x288 with 1 Axes>"
      ]
     },
     "metadata": {
      "needs_background": "light"
     },
     "output_type": "display_data"
    }
   ],
   "source": [
    "#Checking the trend of the data\n",
    "df['Selected Period'].plot(xlim=['2011-12-26','2014-03-31'],figsize=(10,4), c='red')"
   ]
  },
  {
   "cell_type": "markdown",
   "id": "66c4d954",
   "metadata": {},
   "source": [
    "By looking at the above figure we can observe that in 2013 between october to December month we can see some sudden growth and can be identified as an outlier/Anomalies present."
   ]
  },
  {
   "cell_type": "code",
   "execution_count": 103,
   "id": "fb951cec",
   "metadata": {},
   "outputs": [],
   "source": [
    "index = df.loc['2011-12-26':'2014-03-31'].index\n",
    "Selected_Period = df.loc['2011-12-26':'2014-03-31']['Selected Period']"
   ]
  },
  {
   "cell_type": "code",
   "execution_count": 104,
   "id": "c6361f6c",
   "metadata": {},
   "outputs": [
    {
     "data": {
      "text/plain": [
       "[<matplotlib.lines.Line2D at 0x27e3e6244f0>]"
      ]
     },
     "execution_count": 104,
     "metadata": {},
     "output_type": "execute_result"
    },
    {
     "data": {
      "image/png": "[encoded data removed]",
      "text/plain": [
       "<Figure size 432x288 with 1 Axes>"
      ]
     },
     "metadata": {
      "needs_background": "light"
     },
     "output_type": "display_data"
    }
   ],
   "source": [
    "figure,axis=plt.subplots()\n",
    "plt.tight_layout()\n",
    "\n",
    "## Preventing overlapping\n",
    "figure.autofmt_xdate()\n",
    "axis.plot(index,Selected_Period)"
   ]
  },
  {
   "cell_type": "markdown",
   "id": "efe5291f",
   "metadata": {},
   "source": [
    "# Time Resampling\n",
    "#### Resampling is used in time series data. This is a convenience method for frequency conversion and resampling of time series data"
   ]
  },
  {
   "cell_type": "code",
   "execution_count": 105,
   "id": "63db1d43",
   "metadata": {},
   "outputs": [
    {
     "data": {
      "text/html": [
       "<div>\n",
       "<style scoped>\n",
       "    .dataframe tbody tr th:only-of-type {\n",
       "        vertical-align: middle;\n",
       "    }\n",
       "\n",
       "    .dataframe tbody tr th {\n",
       "        vertical-align: top;\n",
       "    }\n",
       "\n",
       "    .dataframe thead th {\n",
       "        text-align: right;\n",
       "    }\n",
       "</style>\n",
       "<table border=\"1\" class=\"dataframe\">\n",
       "  <thead>\n",
       "    <tr style=\"text-align: right;\">\n",
       "      <th></th>\n",
       "      <th>Selected Period</th>\n",
       "    </tr>\n",
       "    <tr>\n",
       "      <th>YMD</th>\n",
       "      <th></th>\n",
       "    </tr>\n",
       "  </thead>\n",
       "  <tbody>\n",
       "    <tr>\n",
       "      <th>2011-12-31</th>\n",
       "      <td>1284608</td>\n",
       "    </tr>\n",
       "    <tr>\n",
       "      <th>2012-12-31</th>\n",
       "      <td>5201136</td>\n",
       "    </tr>\n",
       "    <tr>\n",
       "      <th>2013-12-31</th>\n",
       "      <td>10794839</td>\n",
       "    </tr>\n",
       "    <tr>\n",
       "      <th>2014-12-31</th>\n",
       "      <td>17834756</td>\n",
       "    </tr>\n",
       "  </tbody>\n",
       "</table>\n",
       "</div>"
      ],
      "text/plain": [
       "            Selected Period\n",
       "YMD                        \n",
       "2011-12-31          1284608\n",
       "2012-12-31          5201136\n",
       "2013-12-31         10794839\n",
       "2014-12-31         17834756"
      ]
     },
     "execution_count": 105,
     "metadata": {},
     "output_type": "execute_result"
    }
   ],
   "source": [
    "#Checking which data in a year is minimum\n",
    "df.resample(rule='A').min()"
   ]
  },
  {
   "cell_type": "code",
   "execution_count": 106,
   "id": "c72317b1",
   "metadata": {},
   "outputs": [
    {
     "data": {
      "text/html": [
       "<div>\n",
       "<style scoped>\n",
       "    .dataframe tbody tr th:only-of-type {\n",
       "        vertical-align: middle;\n",
       "    }\n",
       "\n",
       "    .dataframe tbody tr th {\n",
       "        vertical-align: top;\n",
       "    }\n",
       "\n",
       "    .dataframe thead th {\n",
       "        text-align: right;\n",
       "    }\n",
       "</style>\n",
       "<table border=\"1\" class=\"dataframe\">\n",
       "  <thead>\n",
       "    <tr style=\"text-align: right;\">\n",
       "      <th></th>\n",
       "      <th>Selected Period</th>\n",
       "    </tr>\n",
       "    <tr>\n",
       "      <th>YMD</th>\n",
       "      <th></th>\n",
       "    </tr>\n",
       "  </thead>\n",
       "  <tbody>\n",
       "    <tr>\n",
       "      <th>2011-12-31</th>\n",
       "      <td>1284608</td>\n",
       "    </tr>\n",
       "    <tr>\n",
       "      <th>2012-12-31</th>\n",
       "      <td>31075937</td>\n",
       "    </tr>\n",
       "    <tr>\n",
       "      <th>2013-12-31</th>\n",
       "      <td>50876875</td>\n",
       "    </tr>\n",
       "    <tr>\n",
       "      <th>2014-12-31</th>\n",
       "      <td>20812220</td>\n",
       "    </tr>\n",
       "  </tbody>\n",
       "</table>\n",
       "</div>"
      ],
      "text/plain": [
       "            Selected Period\n",
       "YMD                        \n",
       "2011-12-31          1284608\n",
       "2012-12-31         31075937\n",
       "2013-12-31         50876875\n",
       "2014-12-31         20812220"
      ]
     },
     "execution_count": 106,
     "metadata": {},
     "output_type": "execute_result"
    }
   ],
   "source": [
    "#Checking which data in a year is Maximum\n",
    "df.resample(rule='A').max()"
   ]
  },
  {
   "cell_type": "code",
   "execution_count": 107,
   "id": "961ebcba",
   "metadata": {},
   "outputs": [
    {
     "data": {
      "text/html": [
       "<div>\n",
       "<style scoped>\n",
       "    .dataframe tbody tr th:only-of-type {\n",
       "        vertical-align: middle;\n",
       "    }\n",
       "\n",
       "    .dataframe tbody tr th {\n",
       "        vertical-align: top;\n",
       "    }\n",
       "\n",
       "    .dataframe thead th {\n",
       "        text-align: right;\n",
       "    }\n",
       "</style>\n",
       "<table border=\"1\" class=\"dataframe\">\n",
       "  <thead>\n",
       "    <tr style=\"text-align: right;\">\n",
       "      <th></th>\n",
       "      <th>Selected Period</th>\n",
       "    </tr>\n",
       "    <tr>\n",
       "      <th>YMD</th>\n",
       "      <th></th>\n",
       "    </tr>\n",
       "  </thead>\n",
       "  <tbody>\n",
       "    <tr>\n",
       "      <th>2011-12-31</th>\n",
       "      <td>1.284608e+06</td>\n",
       "    </tr>\n",
       "    <tr>\n",
       "      <th>2012-12-31</th>\n",
       "      <td>1.471989e+07</td>\n",
       "    </tr>\n",
       "    <tr>\n",
       "      <th>2013-12-31</th>\n",
       "      <td>1.402438e+07</td>\n",
       "    </tr>\n",
       "    <tr>\n",
       "      <th>2014-12-31</th>\n",
       "      <td>1.890840e+07</td>\n",
       "    </tr>\n",
       "  </tbody>\n",
       "</table>\n",
       "</div>"
      ],
      "text/plain": [
       "            Selected Period\n",
       "YMD                        \n",
       "2011-12-31     1.284608e+06\n",
       "2012-12-31     1.471989e+07\n",
       "2013-12-31     1.402438e+07\n",
       "2014-12-31     1.890840e+07"
      ]
     },
     "execution_count": 107,
     "metadata": {},
     "output_type": "execute_result"
    }
   ],
   "source": [
    "#Finding the mean data in the entire year\n",
    "df.resample(rule='A').mean()"
   ]
  },
  {
   "cell_type": "code",
   "execution_count": 109,
   "id": "35bd2a32",
   "metadata": {},
   "outputs": [
    {
     "data": {
      "text/plain": [
       "<AxesSubplot:xlabel='YMD'>"
      ]
     },
     "execution_count": 109,
     "metadata": {},
     "output_type": "execute_result"
    },
    {
     "data": {
      "image/png": "[encoded data removed]",
      "text/plain": [
       "<Figure size 864x288 with 1 Axes>"
      ]
     },
     "metadata": {
      "needs_background": "light"
     },
     "output_type": "display_data"
    }
   ],
   "source": [
    "##year end frequency\n",
    "df.resample(rule='A').max()['Selected Period'].plot(figsize=(12,4))"
   ]
  },
  {
   "cell_type": "markdown",
   "id": "01ae5d11",
   "metadata": {},
   "source": [
    "As we can the trend of the data how it is increasing from 2011 to 2013 and then there is sudden decrease after 2013."
   ]
  },
  {
   "cell_type": "code",
   "execution_count": 110,
   "id": "832268b8",
   "metadata": {},
   "outputs": [
    {
     "data": {
      "text/plain": [
       "<AxesSubplot:xlabel='YMD'>"
      ]
     },
     "execution_count": 110,
     "metadata": {},
     "output_type": "execute_result"
    },
    {
     "data": {
      "image/png": "[encoded data removed]",
      "text/plain": [
       "<Figure size 432x288 with 1 Axes>"
      ]
     },
     "metadata": {
      "needs_background": "light"
     },
     "output_type": "display_data"
    }
   ],
   "source": [
    "##quaterly start frequency\n",
    "df.resample(rule='QS').max()['Selected Period'].plot()"
   ]
  },
  {
   "cell_type": "markdown",
   "id": "a7b1e412",
   "metadata": {},
   "source": [
    "With the help of rule QS we can see which particular quarter has seen sudden increase like in the above plot we can clearly say that in Q3 there is a sudden increase."
   ]
  },
  {
   "cell_type": "code",
   "execution_count": 111,
   "id": "f6885c77",
   "metadata": {},
   "outputs": [
    {
     "data": {
      "text/html": [
       "<div>\n",
       "<style scoped>\n",
       "    .dataframe tbody tr th:only-of-type {\n",
       "        vertical-align: middle;\n",
       "    }\n",
       "\n",
       "    .dataframe tbody tr th {\n",
       "        vertical-align: top;\n",
       "    }\n",
       "\n",
       "    .dataframe thead th {\n",
       "        text-align: right;\n",
       "    }\n",
       "</style>\n",
       "<table border=\"1\" class=\"dataframe\">\n",
       "  <thead>\n",
       "    <tr style=\"text-align: right;\">\n",
       "      <th></th>\n",
       "      <th>Selected Period</th>\n",
       "    </tr>\n",
       "    <tr>\n",
       "      <th>YMD</th>\n",
       "      <th></th>\n",
       "    </tr>\n",
       "  </thead>\n",
       "  <tbody>\n",
       "    <tr>\n",
       "      <th>2011-12-30</th>\n",
       "      <td>1284608</td>\n",
       "    </tr>\n",
       "    <tr>\n",
       "      <th>2012-12-31</th>\n",
       "      <td>31075937</td>\n",
       "    </tr>\n",
       "    <tr>\n",
       "      <th>2013-12-31</th>\n",
       "      <td>50876875</td>\n",
       "    </tr>\n",
       "    <tr>\n",
       "      <th>2014-12-31</th>\n",
       "      <td>20812220</td>\n",
       "    </tr>\n",
       "  </tbody>\n",
       "</table>\n",
       "</div>"
      ],
      "text/plain": [
       "            Selected Period\n",
       "YMD                        \n",
       "2011-12-30          1284608\n",
       "2012-12-31         31075937\n",
       "2013-12-31         50876875\n",
       "2014-12-31         20812220"
      ]
     },
     "execution_count": 111,
     "metadata": {},
     "output_type": "execute_result"
    }
   ],
   "source": [
    "##Business End Frequency\n",
    "df.resample(rule='BA').max()"
   ]
  },
  {
   "cell_type": "markdown",
   "id": "fee2a10e",
   "metadata": {},
   "source": [
    "\"BA\" rule signifies the business end frequencies like in share market what was the maximum price of the share for a particular company at the end of each year."
   ]
  },
  {
   "cell_type": "code",
   "execution_count": 112,
   "id": "8c456845",
   "metadata": {},
   "outputs": [
    {
     "data": {
      "text/html": [
       "<div>\n",
       "<style scoped>\n",
       "    .dataframe tbody tr th:only-of-type {\n",
       "        vertical-align: middle;\n",
       "    }\n",
       "\n",
       "    .dataframe tbody tr th {\n",
       "        vertical-align: top;\n",
       "    }\n",
       "\n",
       "    .dataframe thead th {\n",
       "        text-align: right;\n",
       "    }\n",
       "</style>\n",
       "<table border=\"1\" class=\"dataframe\">\n",
       "  <thead>\n",
       "    <tr style=\"text-align: right;\">\n",
       "      <th></th>\n",
       "      <th>Selected Period</th>\n",
       "    </tr>\n",
       "    <tr>\n",
       "      <th>YMD</th>\n",
       "      <th></th>\n",
       "    </tr>\n",
       "  </thead>\n",
       "  <tbody>\n",
       "    <tr>\n",
       "      <th>2011-12-30</th>\n",
       "      <td>1284608</td>\n",
       "    </tr>\n",
       "    <tr>\n",
       "      <th>2012-12-31</th>\n",
       "      <td>5201136</td>\n",
       "    </tr>\n",
       "    <tr>\n",
       "      <th>2013-12-31</th>\n",
       "      <td>10794839</td>\n",
       "    </tr>\n",
       "    <tr>\n",
       "      <th>2014-12-31</th>\n",
       "      <td>17834756</td>\n",
       "    </tr>\n",
       "  </tbody>\n",
       "</table>\n",
       "</div>"
      ],
      "text/plain": [
       "            Selected Period\n",
       "YMD                        \n",
       "2011-12-30          1284608\n",
       "2012-12-31          5201136\n",
       "2013-12-31         10794839\n",
       "2014-12-31         17834756"
      ]
     },
     "execution_count": 112,
     "metadata": {},
     "output_type": "execute_result"
    }
   ],
   "source": [
    "##Business End Frequency\n",
    "df.resample(rule='BA').min()"
   ]
  },
  {
   "cell_type": "markdown",
   "id": "a92d716b",
   "metadata": {},
   "source": [
    "\"BA\" rule signifies the business end frequencies like in share market what was the minimum price of the share for a particular company at the end of each year."
   ]
  },
  {
   "cell_type": "code",
   "execution_count": 113,
   "id": "7b6dcdba",
   "metadata": {},
   "outputs": [
    {
     "data": {
      "text/html": [
       "<div>\n",
       "<style scoped>\n",
       "    .dataframe tbody tr th:only-of-type {\n",
       "        vertical-align: middle;\n",
       "    }\n",
       "\n",
       "    .dataframe tbody tr th {\n",
       "        vertical-align: top;\n",
       "    }\n",
       "\n",
       "    .dataframe thead th {\n",
       "        text-align: right;\n",
       "    }\n",
       "</style>\n",
       "<table border=\"1\" class=\"dataframe\">\n",
       "  <thead>\n",
       "    <tr style=\"text-align: right;\">\n",
       "      <th></th>\n",
       "      <th>Selected Period</th>\n",
       "    </tr>\n",
       "    <tr>\n",
       "      <th>YMD</th>\n",
       "      <th></th>\n",
       "    </tr>\n",
       "  </thead>\n",
       "  <tbody>\n",
       "    <tr>\n",
       "      <th>2011-12-30</th>\n",
       "      <td>1.284608e+06</td>\n",
       "    </tr>\n",
       "    <tr>\n",
       "      <th>2012-12-31</th>\n",
       "      <td>1.471989e+07</td>\n",
       "    </tr>\n",
       "    <tr>\n",
       "      <th>2013-12-31</th>\n",
       "      <td>1.402438e+07</td>\n",
       "    </tr>\n",
       "    <tr>\n",
       "      <th>2014-12-31</th>\n",
       "      <td>1.890840e+07</td>\n",
       "    </tr>\n",
       "  </tbody>\n",
       "</table>\n",
       "</div>"
      ],
      "text/plain": [
       "            Selected Period\n",
       "YMD                        \n",
       "2011-12-30     1.284608e+06\n",
       "2012-12-31     1.471989e+07\n",
       "2013-12-31     1.402438e+07\n",
       "2014-12-31     1.890840e+07"
      ]
     },
     "execution_count": 113,
     "metadata": {},
     "output_type": "execute_result"
    }
   ],
   "source": [
    "##Business End Frequency\n",
    "df.resample(rule='BA').mean()"
   ]
  },
  {
   "cell_type": "markdown",
   "id": "cb7789c6",
   "metadata": {},
   "source": [
    "\"BA\" rule signifies the business end frequencies like in share market what was the mean price of the share for a particular company at the end of each year.\n",
    "\n",
    "Like wise there are many rules which we can apply such as BQS, MS, WOM etc..."
   ]
  },
  {
   "cell_type": "code",
   "execution_count": 116,
   "id": "223a4b57",
   "metadata": {},
   "outputs": [
    {
     "data": {
      "text/plain": [
       "<AxesSubplot:xlabel='YMD'>"
      ]
     },
     "execution_count": 116,
     "metadata": {},
     "output_type": "execute_result"
    },
    {
     "data": {
      "image/png": "[encoded data removed]",
      "text/plain": [
       "<Figure size 432x288 with 1 Axes>"
      ]
     },
     "metadata": {
      "needs_background": "light"
     },
     "output_type": "display_data"
    }
   ],
   "source": [
    "## We can also do Bar plotting and check the trend\n",
    "df['Selected Period'].resample(rule='A').mean().plot(kind='bar')"
   ]
  },
  {
   "cell_type": "code",
   "execution_count": 118,
   "id": "71d5696f",
   "metadata": {},
   "outputs": [
    {
     "data": {
      "text/plain": [
       "<AxesSubplot:xlabel='YMD'>"
      ]
     },
     "execution_count": 118,
     "metadata": {},
     "output_type": "execute_result"
    },
    {
     "data": {
      "image/png": "[encoded data removed]",
      "text/plain": [
       "<Figure size 864x288 with 1 Axes>"
      ]
     },
     "metadata": {
      "needs_background": "light"
     },
     "output_type": "display_data"
    }
   ],
   "source": [
    "#MonthEnd Data\n",
    "df['Selected Period'].resample(rule='M').max().plot(kind='bar',figsize=(12,4))"
   ]
  },
  {
   "cell_type": "markdown",
   "id": "52174282",
   "metadata": {},
   "source": [
    "As in the above Bar plot we can clearly see that in November 2013 there is sudden increase in Data points which also leads to outliers or Anomalies."
   ]
  },
  {
   "cell_type": "markdown",
   "id": "edf5c685",
   "metadata": {},
   "source": [
    "## Rolling\n",
    "Rolling means creating a rolling window with a specified size and perform calculations on the data in this window which, of course, rolls through the data.\n",
    "\n",
    "simple moving average can be used for smoothening the graph for a short term like 10, 30, 50 days such as in Stock Market and many more fields.\n",
    "\n",
    "We can also use Cumulative Moving Average(CMA), Exponential weight moving agerage(EWMA) for smoothening the graph."
   ]
  },
  {
   "cell_type": "code",
   "execution_count": 121,
   "id": "9e3680a1",
   "metadata": {},
   "outputs": [
    {
     "data": {
      "text/html": [
       "<div>\n",
       "<style scoped>\n",
       "    .dataframe tbody tr th:only-of-type {\n",
       "        vertical-align: middle;\n",
       "    }\n",
       "\n",
       "    .dataframe tbody tr th {\n",
       "        vertical-align: top;\n",
       "    }\n",
       "\n",
       "    .dataframe thead th {\n",
       "        text-align: right;\n",
       "    }\n",
       "</style>\n",
       "<table border=\"1\" class=\"dataframe\">\n",
       "  <thead>\n",
       "    <tr style=\"text-align: right;\">\n",
       "      <th></th>\n",
       "      <th>Selected Period</th>\n",
       "      <th>Selected Period:5 days rolling</th>\n",
       "    </tr>\n",
       "    <tr>\n",
       "      <th>YMD</th>\n",
       "      <th></th>\n",
       "      <th></th>\n",
       "    </tr>\n",
       "  </thead>\n",
       "  <tbody>\n",
       "    <tr>\n",
       "      <th>2011-12-26</th>\n",
       "      <td>1284608</td>\n",
       "      <td>NaN</td>\n",
       "    </tr>\n",
       "    <tr>\n",
       "      <th>2012-01-02</th>\n",
       "      <td>13059880</td>\n",
       "      <td>NaN</td>\n",
       "    </tr>\n",
       "    <tr>\n",
       "      <th>2012-01-09</th>\n",
       "      <td>14076974</td>\n",
       "      <td>NaN</td>\n",
       "    </tr>\n",
       "    <tr>\n",
       "      <th>2012-01-16</th>\n",
       "      <td>14337217</td>\n",
       "      <td>NaN</td>\n",
       "    </tr>\n",
       "    <tr>\n",
       "      <th>2012-01-23</th>\n",
       "      <td>14681748</td>\n",
       "      <td>11488085.4</td>\n",
       "    </tr>\n",
       "  </tbody>\n",
       "</table>\n",
       "</div>"
      ],
      "text/plain": [
       "            Selected Period  Selected Period:5 days rolling\n",
       "YMD                                                        \n",
       "2011-12-26          1284608                             NaN\n",
       "2012-01-02         13059880                             NaN\n",
       "2012-01-09         14076974                             NaN\n",
       "2012-01-16         14337217                             NaN\n",
       "2012-01-23         14681748                      11488085.4"
      ]
     },
     "execution_count": 121,
     "metadata": {},
     "output_type": "execute_result"
    }
   ],
   "source": [
    "df['Selected Period:5 days rolling']=df['Selected Period'].rolling(5).mean()\n",
    "df.head()"
   ]
  },
  {
   "cell_type": "code",
   "execution_count": 124,
   "id": "ab919f0f",
   "metadata": {},
   "outputs": [
    {
     "data": {
      "text/plain": [
       "<AxesSubplot:xlabel='YMD'>"
      ]
     },
     "execution_count": 124,
     "metadata": {},
     "output_type": "execute_result"
    },
    {
     "data": {
      "image/png": "[encoded data removed]",
      "text/plain": [
       "<Figure size 864x360 with 1 Axes>"
      ]
     },
     "metadata": {
      "needs_background": "light"
     },
     "output_type": "display_data"
    }
   ],
   "source": [
    "df[['Selected Period','Selected Period:5 days rolling']].plot(figsize=(12,5))"
   ]
  },
  {
   "cell_type": "markdown",
   "id": "214f8a05",
   "metadata": {},
   "source": [
    "### TRAINING MODEL"
   ]
  },
  {
   "cell_type": "code",
   "execution_count": 127,
   "id": "15746ea2",
   "metadata": {},
   "outputs": [],
   "source": [
    "df.drop('Selected Period:5 days rolling', axis=1, inplace=True)"
   ]
  },
  {
   "cell_type": "code",
   "execution_count": 133,
   "id": "03eaeff8",
   "metadata": {},
   "outputs": [
    {
     "data": {
      "text/html": [
       "<div>\n",
       "<style scoped>\n",
       "    .dataframe tbody tr th:only-of-type {\n",
       "        vertical-align: middle;\n",
       "    }\n",
       "\n",
       "    .dataframe tbody tr th {\n",
       "        vertical-align: top;\n",
       "    }\n",
       "\n",
       "    .dataframe thead th {\n",
       "        text-align: right;\n",
       "    }\n",
       "</style>\n",
       "<table border=\"1\" class=\"dataframe\">\n",
       "  <thead>\n",
       "    <tr style=\"text-align: right;\">\n",
       "      <th></th>\n",
       "      <th>YMD</th>\n",
       "      <th>Selected Period</th>\n",
       "    </tr>\n",
       "  </thead>\n",
       "  <tbody>\n",
       "    <tr>\n",
       "      <th>0</th>\n",
       "      <td>2011-12-26</td>\n",
       "      <td>1284608</td>\n",
       "    </tr>\n",
       "    <tr>\n",
       "      <th>1</th>\n",
       "      <td>2012-01-02</td>\n",
       "      <td>13059880</td>\n",
       "    </tr>\n",
       "    <tr>\n",
       "      <th>2</th>\n",
       "      <td>2012-01-09</td>\n",
       "      <td>14076974</td>\n",
       "    </tr>\n",
       "    <tr>\n",
       "      <th>3</th>\n",
       "      <td>2012-01-16</td>\n",
       "      <td>14337217</td>\n",
       "    </tr>\n",
       "    <tr>\n",
       "      <th>4</th>\n",
       "      <td>2012-01-23</td>\n",
       "      <td>14681748</td>\n",
       "    </tr>\n",
       "  </tbody>\n",
       "</table>\n",
       "</div>"
      ],
      "text/plain": [
       "         YMD  Selected Period\n",
       "0 2011-12-26          1284608\n",
       "1 2012-01-02         13059880\n",
       "2 2012-01-09         14076974\n",
       "3 2012-01-16         14337217\n",
       "4 2012-01-23         14681748"
      ]
     },
     "execution_count": 133,
     "metadata": {},
     "output_type": "execute_result"
    }
   ],
   "source": [
    "df = df.reset_index()\n",
    "df.head()"
   ]
  },
  {
   "cell_type": "code",
   "execution_count": 135,
   "id": "10581589",
   "metadata": {},
   "outputs": [
    {
     "data": {
      "text/html": [
       "<div>\n",
       "<style scoped>\n",
       "    .dataframe tbody tr th:only-of-type {\n",
       "        vertical-align: middle;\n",
       "    }\n",
       "\n",
       "    .dataframe tbody tr th {\n",
       "        vertical-align: top;\n",
       "    }\n",
       "\n",
       "    .dataframe thead th {\n",
       "        text-align: right;\n",
       "    }\n",
       "</style>\n",
       "<table border=\"1\" class=\"dataframe\">\n",
       "  <thead>\n",
       "    <tr style=\"text-align: right;\">\n",
       "      <th></th>\n",
       "      <th>ds</th>\n",
       "      <th>y</th>\n",
       "    </tr>\n",
       "  </thead>\n",
       "  <tbody>\n",
       "    <tr>\n",
       "      <th>0</th>\n",
       "      <td>2011-12-26</td>\n",
       "      <td>1284608</td>\n",
       "    </tr>\n",
       "    <tr>\n",
       "      <th>1</th>\n",
       "      <td>2012-01-02</td>\n",
       "      <td>13059880</td>\n",
       "    </tr>\n",
       "    <tr>\n",
       "      <th>2</th>\n",
       "      <td>2012-01-09</td>\n",
       "      <td>14076974</td>\n",
       "    </tr>\n",
       "    <tr>\n",
       "      <th>3</th>\n",
       "      <td>2012-01-16</td>\n",
       "      <td>14337217</td>\n",
       "    </tr>\n",
       "    <tr>\n",
       "      <th>4</th>\n",
       "      <td>2012-01-23</td>\n",
       "      <td>14681748</td>\n",
       "    </tr>\n",
       "  </tbody>\n",
       "</table>\n",
       "</div>"
      ],
      "text/plain": [
       "          ds         y\n",
       "0 2011-12-26   1284608\n",
       "1 2012-01-02  13059880\n",
       "2 2012-01-09  14076974\n",
       "3 2012-01-16  14337217\n",
       "4 2012-01-23  14681748"
      ]
     },
     "execution_count": 135,
     "metadata": {},
     "output_type": "execute_result"
    }
   ],
   "source": [
    "df.columns=['ds', 'y']\n",
    "df.head()"
   ]
  },
  {
   "cell_type": "code",
   "execution_count": 136,
   "id": "46aa3d4b",
   "metadata": {},
   "outputs": [
    {
     "name": "stderr",
     "output_type": "stream",
     "text": [
      "INFO:prophet:Disabling weekly seasonality. Run prophet with weekly_seasonality=True to override this.\n"
     ]
    },
    {
     "data": {
      "text/plain": [
       "<prophet.forecaster.Prophet at 0x27e428799d0>"
      ]
     },
     "execution_count": 136,
     "metadata": {},
     "output_type": "execute_result"
    }
   ],
   "source": [
    "m=Prophet(interval_width=0.95,daily_seasonality=True)\n",
    "m.fit(df)"
   ]
  },
  {
   "cell_type": "markdown",
   "id": "d5e382b9",
   "metadata": {},
   "source": [
    "### PREDICTION"
   ]
  },
  {
   "cell_type": "code",
   "execution_count": 142,
   "id": "79c9f0f9",
   "metadata": {},
   "outputs": [
    {
     "data": {
      "text/html": [
       "<div>\n",
       "<style scoped>\n",
       "    .dataframe tbody tr th:only-of-type {\n",
       "        vertical-align: middle;\n",
       "    }\n",
       "\n",
       "    .dataframe tbody tr th {\n",
       "        vertical-align: top;\n",
       "    }\n",
       "\n",
       "    .dataframe thead th {\n",
       "        text-align: right;\n",
       "    }\n",
       "</style>\n",
       "<table border=\"1\" class=\"dataframe\">\n",
       "  <thead>\n",
       "    <tr style=\"text-align: right;\">\n",
       "      <th></th>\n",
       "      <th>ds</th>\n",
       "      <th>trend</th>\n",
       "      <th>yhat_lower</th>\n",
       "      <th>yhat_upper</th>\n",
       "      <th>trend_lower</th>\n",
       "      <th>trend_upper</th>\n",
       "      <th>additive_terms</th>\n",
       "      <th>additive_terms_lower</th>\n",
       "      <th>additive_terms_upper</th>\n",
       "      <th>daily</th>\n",
       "      <th>daily_lower</th>\n",
       "      <th>daily_upper</th>\n",
       "      <th>yearly</th>\n",
       "      <th>yearly_lower</th>\n",
       "      <th>yearly_upper</th>\n",
       "      <th>multiplicative_terms</th>\n",
       "      <th>multiplicative_terms_lower</th>\n",
       "      <th>multiplicative_terms_upper</th>\n",
       "      <th>yhat</th>\n",
       "    </tr>\n",
       "  </thead>\n",
       "  <tbody>\n",
       "    <tr>\n",
       "      <th>204</th>\n",
       "      <td>2014-06-25</td>\n",
       "      <td>8.792584e+06</td>\n",
       "      <td>1.149817e+07</td>\n",
       "      <td>2.481729e+07</td>\n",
       "      <td>8.645172e+06</td>\n",
       "      <td>8.919232e+06</td>\n",
       "      <td>9.259170e+06</td>\n",
       "      <td>9.259170e+06</td>\n",
       "      <td>9.259170e+06</td>\n",
       "      <td>1.032840e+07</td>\n",
       "      <td>1.032840e+07</td>\n",
       "      <td>1.032840e+07</td>\n",
       "      <td>-1.069228e+06</td>\n",
       "      <td>-1.069228e+06</td>\n",
       "      <td>-1.069228e+06</td>\n",
       "      <td>0.0</td>\n",
       "      <td>0.0</td>\n",
       "      <td>0.0</td>\n",
       "      <td>1.805175e+07</td>\n",
       "    </tr>\n",
       "    <tr>\n",
       "      <th>205</th>\n",
       "      <td>2014-06-26</td>\n",
       "      <td>8.806370e+06</td>\n",
       "      <td>1.148984e+07</td>\n",
       "      <td>2.481975e+07</td>\n",
       "      <td>8.657104e+06</td>\n",
       "      <td>8.935198e+06</td>\n",
       "      <td>9.103814e+06</td>\n",
       "      <td>9.103814e+06</td>\n",
       "      <td>9.103814e+06</td>\n",
       "      <td>1.032840e+07</td>\n",
       "      <td>1.032840e+07</td>\n",
       "      <td>1.032840e+07</td>\n",
       "      <td>-1.224584e+06</td>\n",
       "      <td>-1.224584e+06</td>\n",
       "      <td>-1.224584e+06</td>\n",
       "      <td>0.0</td>\n",
       "      <td>0.0</td>\n",
       "      <td>0.0</td>\n",
       "      <td>1.791018e+07</td>\n",
       "    </tr>\n",
       "    <tr>\n",
       "      <th>206</th>\n",
       "      <td>2014-06-27</td>\n",
       "      <td>8.820157e+06</td>\n",
       "      <td>1.130839e+07</td>\n",
       "      <td>2.477894e+07</td>\n",
       "      <td>8.669056e+06</td>\n",
       "      <td>8.951163e+06</td>\n",
       "      <td>8.954872e+06</td>\n",
       "      <td>8.954872e+06</td>\n",
       "      <td>8.954872e+06</td>\n",
       "      <td>1.032840e+07</td>\n",
       "      <td>1.032840e+07</td>\n",
       "      <td>1.032840e+07</td>\n",
       "      <td>-1.373526e+06</td>\n",
       "      <td>-1.373526e+06</td>\n",
       "      <td>-1.373526e+06</td>\n",
       "      <td>0.0</td>\n",
       "      <td>0.0</td>\n",
       "      <td>0.0</td>\n",
       "      <td>1.777503e+07</td>\n",
       "    </tr>\n",
       "    <tr>\n",
       "      <th>207</th>\n",
       "      <td>2014-06-28</td>\n",
       "      <td>8.833943e+06</td>\n",
       "      <td>1.117906e+07</td>\n",
       "      <td>2.439999e+07</td>\n",
       "      <td>8.681030e+06</td>\n",
       "      <td>8.967129e+06</td>\n",
       "      <td>8.815758e+06</td>\n",
       "      <td>8.815758e+06</td>\n",
       "      <td>8.815758e+06</td>\n",
       "      <td>1.032840e+07</td>\n",
       "      <td>1.032840e+07</td>\n",
       "      <td>1.032840e+07</td>\n",
       "      <td>-1.512640e+06</td>\n",
       "      <td>-1.512640e+06</td>\n",
       "      <td>-1.512640e+06</td>\n",
       "      <td>0.0</td>\n",
       "      <td>0.0</td>\n",
       "      <td>0.0</td>\n",
       "      <td>1.764970e+07</td>\n",
       "    </tr>\n",
       "    <tr>\n",
       "      <th>208</th>\n",
       "      <td>2014-06-29</td>\n",
       "      <td>8.847730e+06</td>\n",
       "      <td>1.100774e+07</td>\n",
       "      <td>2.412241e+07</td>\n",
       "      <td>8.693854e+06</td>\n",
       "      <td>8.983095e+06</td>\n",
       "      <td>8.689580e+06</td>\n",
       "      <td>8.689580e+06</td>\n",
       "      <td>8.689580e+06</td>\n",
       "      <td>1.032840e+07</td>\n",
       "      <td>1.032840e+07</td>\n",
       "      <td>1.032840e+07</td>\n",
       "      <td>-1.638819e+06</td>\n",
       "      <td>-1.638819e+06</td>\n",
       "      <td>-1.638819e+06</td>\n",
       "      <td>0.0</td>\n",
       "      <td>0.0</td>\n",
       "      <td>0.0</td>\n",
       "      <td>1.753731e+07</td>\n",
       "    </tr>\n",
       "  </tbody>\n",
       "</table>\n",
       "</div>"
      ],
      "text/plain": [
       "            ds         trend    yhat_lower    yhat_upper   trend_lower  \\\n",
       "204 2014-06-25  8.792584e+06  1.149817e+07  2.481729e+07  8.645172e+06   \n",
       "205 2014-06-26  8.806370e+06  1.148984e+07  2.481975e+07  8.657104e+06   \n",
       "206 2014-06-27  8.820157e+06  1.130839e+07  2.477894e+07  8.669056e+06   \n",
       "207 2014-06-28  8.833943e+06  1.117906e+07  2.439999e+07  8.681030e+06   \n",
       "208 2014-06-29  8.847730e+06  1.100774e+07  2.412241e+07  8.693854e+06   \n",
       "\n",
       "      trend_upper  additive_terms  additive_terms_lower  additive_terms_upper  \\\n",
       "204  8.919232e+06    9.259170e+06          9.259170e+06          9.259170e+06   \n",
       "205  8.935198e+06    9.103814e+06          9.103814e+06          9.103814e+06   \n",
       "206  8.951163e+06    8.954872e+06          8.954872e+06          8.954872e+06   \n",
       "207  8.967129e+06    8.815758e+06          8.815758e+06          8.815758e+06   \n",
       "208  8.983095e+06    8.689580e+06          8.689580e+06          8.689580e+06   \n",
       "\n",
       "            daily   daily_lower   daily_upper        yearly  yearly_lower  \\\n",
       "204  1.032840e+07  1.032840e+07  1.032840e+07 -1.069228e+06 -1.069228e+06   \n",
       "205  1.032840e+07  1.032840e+07  1.032840e+07 -1.224584e+06 -1.224584e+06   \n",
       "206  1.032840e+07  1.032840e+07  1.032840e+07 -1.373526e+06 -1.373526e+06   \n",
       "207  1.032840e+07  1.032840e+07  1.032840e+07 -1.512640e+06 -1.512640e+06   \n",
       "208  1.032840e+07  1.032840e+07  1.032840e+07 -1.638819e+06 -1.638819e+06   \n",
       "\n",
       "     yearly_upper  multiplicative_terms  multiplicative_terms_lower  \\\n",
       "204 -1.069228e+06                   0.0                         0.0   \n",
       "205 -1.224584e+06                   0.0                         0.0   \n",
       "206 -1.373526e+06                   0.0                         0.0   \n",
       "207 -1.512640e+06                   0.0                         0.0   \n",
       "208 -1.638819e+06                   0.0                         0.0   \n",
       "\n",
       "     multiplicative_terms_upper          yhat  \n",
       "204                         0.0  1.805175e+07  \n",
       "205                         0.0  1.791018e+07  \n",
       "206                         0.0  1.777503e+07  \n",
       "207                         0.0  1.764970e+07  \n",
       "208                         0.0  1.753731e+07  "
      ]
     },
     "execution_count": 142,
     "metadata": {},
     "output_type": "execute_result"
    }
   ],
   "source": [
    "future=m.make_future_dataframe(periods=90,freq='D')\n",
    "forecast=m.predict(future)\n",
    "forecast.tail()"
   ]
  },
  {
   "cell_type": "code",
   "execution_count": 143,
   "id": "0a595cb6",
   "metadata": {},
   "outputs": [
    {
     "data": {
      "text/html": [
       "<div>\n",
       "<style scoped>\n",
       "    .dataframe tbody tr th:only-of-type {\n",
       "        vertical-align: middle;\n",
       "    }\n",
       "\n",
       "    .dataframe tbody tr th {\n",
       "        vertical-align: top;\n",
       "    }\n",
       "\n",
       "    .dataframe thead th {\n",
       "        text-align: right;\n",
       "    }\n",
       "</style>\n",
       "<table border=\"1\" class=\"dataframe\">\n",
       "  <thead>\n",
       "    <tr style=\"text-align: right;\">\n",
       "      <th></th>\n",
       "      <th>ds</th>\n",
       "      <th>yhat</th>\n",
       "    </tr>\n",
       "  </thead>\n",
       "  <tbody>\n",
       "    <tr>\n",
       "      <th>204</th>\n",
       "      <td>2014-06-25</td>\n",
       "      <td>1.805175e+07</td>\n",
       "    </tr>\n",
       "    <tr>\n",
       "      <th>205</th>\n",
       "      <td>2014-06-26</td>\n",
       "      <td>1.791018e+07</td>\n",
       "    </tr>\n",
       "    <tr>\n",
       "      <th>206</th>\n",
       "      <td>2014-06-27</td>\n",
       "      <td>1.777503e+07</td>\n",
       "    </tr>\n",
       "    <tr>\n",
       "      <th>207</th>\n",
       "      <td>2014-06-28</td>\n",
       "      <td>1.764970e+07</td>\n",
       "    </tr>\n",
       "    <tr>\n",
       "      <th>208</th>\n",
       "      <td>2014-06-29</td>\n",
       "      <td>1.753731e+07</td>\n",
       "    </tr>\n",
       "  </tbody>\n",
       "</table>\n",
       "</div>"
      ],
      "text/plain": [
       "            ds          yhat\n",
       "204 2014-06-25  1.805175e+07\n",
       "205 2014-06-26  1.791018e+07\n",
       "206 2014-06-27  1.777503e+07\n",
       "207 2014-06-28  1.764970e+07\n",
       "208 2014-06-29  1.753731e+07"
      ]
     },
     "execution_count": 143,
     "metadata": {},
     "output_type": "execute_result"
    }
   ],
   "source": [
    "forecast[['ds','yhat']].tail()"
   ]
  },
  {
   "cell_type": "code",
   "execution_count": 139,
   "id": "1a8b937b",
   "metadata": {},
   "outputs": [
    {
     "data": {
      "image/png": "[encoded data removed]",
      "text/plain": [
       "<Figure size 720x432 with 1 Axes>"
      ]
     },
     "metadata": {},
     "output_type": "display_data"
    }
   ],
   "source": [
    "plot1=m.plot(forecast)"
   ]
  },
  {
   "cell_type": "code",
   "execution_count": 140,
   "id": "0d36ae9a",
   "metadata": {},
   "outputs": [],
   "source": [
    "# BLUE LINE PREDICTS THE PREDICTION OR THE YHAT VALUE\n",
    "# THE BLUE SHADED REGION INDICATES UPPER AND LOWER ESTIMATES OF YHAT VALUE"
   ]
  },
  {
   "cell_type": "code",
   "execution_count": 144,
   "id": "047aa755",
   "metadata": {},
   "outputs": [
    {
     "data": {
      "image/png": "[encoded data removed]",
      "text/plain": [
       "<Figure size 648x648 with 3 Axes>"
      ]
     },
     "metadata": {},
     "output_type": "display_data"
    }
   ],
   "source": [
    "plot2=m.plot_components(forecast)"
   ]
  },
  {
   "cell_type": "code",
   "execution_count": null,
   "id": "5085a45e",
   "metadata": {},
   "outputs": [],
   "source": []
  }
 ],
 "metadata": {
  "kernelspec": {
   "display_name": "Python 3",
   "language": "python",
   "name": "python3"
  },
  "language_info": {
   "codemirror_mode": {
    "name": "ipython",
    "version": 3
   },
   "file_extension": ".py",
   "mimetype": "text/x-python",
   "name": "python",
   "nbconvert_exporter": "python",
   "pygments_lexer": "ipython3",
   "version": "3.8.8"
  }
 },
 "nbformat": 4,
 "nbformat_minor": 5
}
